{
 "cells": [
  {
   "cell_type": "markdown",
   "metadata": {},
   "source": [
    "## 题目"
   ]
  },
  {
   "cell_type": "markdown",
   "metadata": {},
   "source": [
    "给定两个单词（beginWord 和 endWord）和一个字典，\n",
    "找到从 beginWord 到 endWord 的最短转换序列的长度。\n",
    "转换需遵循如下规则：\n",
    "\n",
    "1. 每次转换只能改变一个字母。\n",
    "2. 转换过程中的中间单词必须是字典中的单词。\n",
    "\n",
    "**说明**:\n",
    "\n",
    "* 如果不存在这样的转换序列，返回 0。\n",
    "* 所有单词具有相同的长度。\n",
    "* 所有单词只由小写字母组成。\n",
    "* 字典中不存在重复的单词。\n",
    "* 你可以假设 beginWord 和 endWord 是非空的，且二者不相同。\n",
    "\n",
    "**示例 1**:\n",
    "```code\n",
    "输入:\n",
    "beginWord = \"hit\",\n",
    "endWord = \"cog\",\n",
    "wordList = [\"hot\",\"dot\",\"dog\",\"lot\",\"log\",\"cog\"]\n",
    "\n",
    "输出: 5\n",
    "\n",
    "解释: 一个最短转换序列是 \"hit\" -> \"hot\" -> \"dot\" -> \"dog\" -> \"cog\",\n",
    "     返回它的长度 5。\n",
    "```"
   ]
  },
  {
   "cell_type": "markdown",
   "metadata": {},
   "source": [
    "## 解答"
   ]
  },
  {
   "cell_type": "code",
   "execution_count": 99,
   "metadata": {},
   "outputs": [],
   "source": [
    "class Solution:\n",
    "    def ladderLength(self, beginWord, endWord, wordList):\n",
    "        if endWord not in wordList:\n",
    "            return 0\n",
    "        count = 1\n",
    "        head = [beginWord]\n",
    "        tail = [endWord]\n",
    "        flag = 1\n",
    "        while flag:\n",
    "#             head = list(set([i for j in head for i in wordList if len(set(list(j)).difference(set(list(i)))) == 1 and len(set(list(j))) == len(set(list(i)))]))\n",
    "            head = list(set([i for j in head for i in wordList if len(set(list(j)).difference(set(list(i)))) == 1]))\n",
    "            print(head)\n",
    "            if head:\n",
    "                if endWord in head:\n",
    "                    return count + 1\n",
    "                count += 1\n",
    "                flag = 1\n",
    "            else:\n",
    "                return 0"
   ]
  },
  {
   "cell_type": "code",
   "execution_count": 100,
   "metadata": {},
   "outputs": [
    {
     "name": "stdout",
     "output_type": "stream",
     "text": [
      "['lode', 'lose', 'lost']\n",
      "['lose', 'lest', 'code', 'lode', 'lost']\n"
     ]
    },
    {
     "data": {
      "text/plain": [
       "3"
      ]
     },
     "execution_count": 100,
     "metadata": {},
     "output_type": "execute_result"
    }
   ],
   "source": [
    "soul = Solution()\n",
    "# beginWord=\"hit\" \n",
    "# endWord=\"cog\"\n",
    "# wordList=[\"hot\",\"dot\",\"dog\",\"lot\",\"log\",\"cog\"]\n",
    "# # wordList=[\"hot\", \"cog\"]\n",
    "# # beginWord=\"hot\" \n",
    "# # endWord=\"dog\"\n",
    "# # wordList=[\"hot\",\"dog\",\"cog\",\"pot\",\"dot\"]\n",
    "beginWord=\"leet\"\n",
    "endWord=\"code\"\n",
    "wordList=[\"lest\",\"leet\",\"lose\",\"code\",\"lode\",\"robe\",\"lost\"]\n",
    "soul.ladderLength(beginWord, endWord, wordList)"
   ]
  },
  {
   "cell_type": "markdown",
   "metadata": {},
   "source": [
    "上述答案存在一个问题就是当word存在重复字符时，判断会失误，有待改进"
   ]
  },
  {
   "cell_type": "code",
   "execution_count": null,
   "metadata": {},
   "outputs": [],
   "source": []
  }
 ],
 "metadata": {
  "kernelspec": {
   "display_name": "Python 3",
   "language": "python",
   "name": "python3"
  },
  "language_info": {
   "codemirror_mode": {
    "name": "ipython",
    "version": 3
   },
   "file_extension": ".py",
   "mimetype": "text/x-python",
   "name": "python",
   "nbconvert_exporter": "python",
   "pygments_lexer": "ipython3",
   "version": "3.6.8"
  }
 },
 "nbformat": 4,
 "nbformat_minor": 4
}
