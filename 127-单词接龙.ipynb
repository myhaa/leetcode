{
 "cells": [
  {
   "cell_type": "markdown",
   "metadata": {},
   "source": [
    "## 题目"
   ]
  },
  {
   "cell_type": "markdown",
   "metadata": {},
   "source": [
    "给定两个单词（beginWord 和 endWord）和一个字典，\n",
    "找到从 beginWord 到 endWord 的最短转换序列的长度。\n",
    "转换需遵循如下规则：\n",
    "\n",
    "1. 每次转换只能改变一个字母。\n",
    "2. 转换过程中的中间单词必须是字典中的单词。\n",
    "\n",
    "**说明**:\n",
    "\n",
    "* 如果不存在这样的转换序列，返回 0。\n",
    "* 所有单词具有相同的长度。\n",
    "* 所有单词只由小写字母组成。\n",
    "* 字典中不存在重复的单词。\n",
    "* 你可以假设 beginWord 和 endWord 是非空的，且二者不相同。\n",
    "\n",
    "**示例 1**:\n",
    "```code\n",
    "输入:\n",
    "beginWord = \"hit\",\n",
    "endWord = \"cog\",\n",
    "wordList = [\"hot\",\"dot\",\"dog\",\"lot\",\"log\",\"cog\"]\n",
    "\n",
    "输出: 5\n",
    "\n",
    "解释: 一个最短转换序列是 \"hit\" -> \"hot\" -> \"dot\" -> \"dog\" -> \"cog\",\n",
    "     返回它的长度 5。\n",
    "```"
   ]
  },
  {
   "cell_type": "markdown",
   "metadata": {},
   "source": [
    "## 解答"
   ]
  },
  {
   "cell_type": "code",
   "execution_count": 3,
   "metadata": {},
   "outputs": [],
   "source": [
    "class Solution:\n",
    "    def ladderLength(self, beginWord, endWord, wordList):\n",
    "        if endWord not in wordList:\n",
    "            return 0\n",
    "        count = 1\n",
    "        head = [beginWord]\n",
    "        tail = [endWord]\n",
    "        flag = 1\n",
    "        while flag:\n",
    "#             head = list(set([i for j in head for i in wordList if len(set(list(j)).difference(set(list(i)))) == 1 and len(set(list(j))) == len(set(list(i)))]))\n",
    "            head = list(set([i for j in head for i in wordList if len(set(list(j)).difference(set(list(i)))) == 1]))\n",
    "            print(head)\n",
    "            if head:\n",
    "                if endWord in head:\n",
    "                    return count + 1\n",
    "                count += 1\n",
    "                flag = 1\n",
    "            else:\n",
    "                return 0"
   ]
  },
  {
   "cell_type": "code",
   "execution_count": 4,
   "metadata": {},
   "outputs": [
    {
     "name": "stdout",
     "output_type": "stream",
     "text": [
      "['lose', 'lode', 'lost']\n",
      "['lose', 'lode', 'code', 'lest', 'lost']\n"
     ]
    },
    {
     "data": {
      "text/plain": [
       "3"
      ]
     },
     "execution_count": 4,
     "metadata": {},
     "output_type": "execute_result"
    }
   ],
   "source": [
    "soul = Solution()\n",
    "# beginWord=\"hit\" \n",
    "# endWord=\"cog\"\n",
    "# wordList=[\"hot\",\"dot\",\"dog\",\"lot\",\"log\",\"cog\"]\n",
    "# # wordList=[\"hot\", \"cog\"]\n",
    "# # beginWord=\"hot\" \n",
    "# # endWord=\"dog\"\n",
    "# # wordList=[\"hot\",\"dog\",\"cog\",\"pot\",\"dot\"]\n",
    "beginWord=\"leet\"\n",
    "endWord=\"code\"\n",
    "wordList=[\"lest\",\"leet\",\"lose\",\"code\",\"lode\",\"robe\",\"lost\"]\n",
    "soul.ladderLength(beginWord, endWord, wordList)"
   ]
  },
  {
   "cell_type": "markdown",
   "metadata": {},
   "source": [
    "# 上述答案存在一个问题就是当word存在重复字符时，判断会失误，有待改进"
   ]
  },
  {
   "cell_type": "markdown",
   "metadata": {},
   "source": [
    "# 官方题解"
   ]
  },
  {
   "cell_type": "markdown",
   "metadata": {},
   "source": [
    "我们将问题抽象在一个无向无权图中，每个单词作为节点，差距只有一个字母的两个单词之间连一条边。问题变成找到从起点到终点的最短路径，如果存在的话。因此可以使用广度优先搜索方法。"
   ]
  },
  {
   "cell_type": "markdown",
   "metadata": {},
   "source": [
    "想法\n",
    "\n",
    "利用广度优先搜索搜索从 beginWord 到 endWord 的路径。\n",
    "\n",
    "算法\n",
    "\n",
    "对给定的 wordList 做预处理，找出所有的通用状态。将通用状态记录在字典中，键是通用状态，值是所有具有通用状态的单词。\n",
    "\n",
    "将包含 beginWord 和 1 的元组放入队列中，1 代表节点的层次。我们需要返回 endWord 的层次也就是从 beginWord 出发的最短距离。\n",
    "\n",
    "为了防止出现环，使用访问数组记录。\n",
    "\n",
    "当队列中有元素的时候，取出第一个元素，记为 current_word。\n",
    "\n",
    "找到 current_word 的所有通用状态，并检查这些通用状态是否存在其它单词的映射，这一步通过检查 all_combo_dict 来实现。\n",
    "\n",
    "从 all_combo_dict 获得的所有单词，都和 current_word 共有一个通用状态，所以都和 current_word 相连，因此将他们加入到队列中。\n",
    "\n",
    "对于新获得的所有单词，向队列中加入元素 (word, level + 1) 其中 level 是 current_word 的层次。\n",
    "\n",
    "最终当你到达期望的单词，对应的层次就是最短变换序列的长度。\n",
    "\n",
    "标准广度优先搜索的终止条件就是找到结束单词。\n",
    "\n",
    "作者：LeetCode\n",
    "链接：https://leetcode-cn.com/problems/word-ladder/solution/dan-ci-jie-long-by-leetcode/\n",
    "来源：力扣（LeetCode）\n",
    "著作权归作者所有。商业转载请联系作者获得授权，非商业转载请注明出处。"
   ]
  },
  {
   "cell_type": "code",
   "execution_count": 6,
   "metadata": {},
   "outputs": [],
   "source": [
    "from collections import defaultdict\n",
    "class Solution(object):\n",
    "    def ladderLength(self, beginWord, endWord, wordList):\n",
    "        \"\"\"\n",
    "        :type beginWord: str\n",
    "        :type endWord: str\n",
    "        :type wordList: List[str]\n",
    "        :rtype: int\n",
    "        \"\"\"\n",
    "\n",
    "        if endWord not in wordList or not endWord or not beginWord or not wordList:\n",
    "            return 0\n",
    "\n",
    "        # Since all words are of same length.\n",
    "        L = len(beginWord)\n",
    "\n",
    "        # Dictionary to hold combination of words that can be formed,\n",
    "        # from any given word. By changing one letter at a time.\n",
    "        all_combo_dict = defaultdict(list)\n",
    "        for word in wordList:\n",
    "            for i in range(L):\n",
    "                # Key is the generic word\n",
    "                # Value is a list of words which have the same intermediate generic word.\n",
    "                all_combo_dict[word[:i] + \"*\" + word[i+1:]].append(word)\n",
    "\n",
    "\n",
    "        # Queue for BFS\n",
    "        queue = [(beginWord, 1)]\n",
    "        # Visited to make sure we don't repeat processing same word.\n",
    "        visited = {beginWord: True}\n",
    "        while queue:\n",
    "            current_word, level = queue.pop(0)      \n",
    "            for i in range(L):\n",
    "                # Intermediate words for current word\n",
    "                intermediate_word = current_word[:i] + \"*\" + current_word[i+1:]\n",
    "\n",
    "                # Next states are all the words which share the same intermediate state.\n",
    "                for word in all_combo_dict[intermediate_word]:\n",
    "                    # If at any point if we find what we are looking for\n",
    "                    # i.e. the end word - we can return with the answer.\n",
    "                    if word == endWord:\n",
    "                        return level + 1\n",
    "                    # Otherwise, add it to the BFS Queue. Also mark it visited\n",
    "                    if word not in visited:\n",
    "                        visited[word] = True\n",
    "                        queue.append((word, level + 1))\n",
    "                all_combo_dict[intermediate_word] = []\n",
    "        return 0"
   ]
  },
  {
   "cell_type": "code",
   "execution_count": 7,
   "metadata": {},
   "outputs": [
    {
     "data": {
      "text/plain": [
       "5"
      ]
     },
     "execution_count": 7,
     "metadata": {},
     "output_type": "execute_result"
    }
   ],
   "source": [
    "soul = Solution()\n",
    "beginWord=\"hit\" \n",
    "endWord=\"cog\"\n",
    "wordList=[\"hot\",\"dot\",\"dog\",\"lot\",\"log\",\"cog\"]\n",
    "# # wordList=[\"hot\", \"cog\"]\n",
    "# # beginWord=\"hot\" \n",
    "# # endWord=\"dog\"\n",
    "# # wordList=[\"hot\",\"dog\",\"cog\",\"pot\",\"dot\"]\n",
    "# beginWord=\"leet\"\n",
    "# endWord=\"code\"\n",
    "# wordList=[\"lest\",\"leet\",\"lose\",\"code\",\"lode\",\"robe\",\"lost\"]\n",
    "soul.ladderLength(beginWord, endWord, wordList)"
   ]
  },
  {
   "cell_type": "code",
   "execution_count": null,
   "metadata": {},
   "outputs": [],
   "source": []
  }
 ],
 "metadata": {
  "kernelspec": {
   "display_name": "Python 3",
   "language": "python",
   "name": "python3"
  },
  "language_info": {
   "codemirror_mode": {
    "name": "ipython",
    "version": 3
   },
   "file_extension": ".py",
   "mimetype": "text/x-python",
   "name": "python",
   "nbconvert_exporter": "python",
   "pygments_lexer": "ipython3",
   "version": "3.6.8"
  }
 },
 "nbformat": 4,
 "nbformat_minor": 4
}
