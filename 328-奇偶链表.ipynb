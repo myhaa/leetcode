{
 "cells": [
  {
   "cell_type": "markdown",
   "metadata": {
    "collapsed": true,
    "pycharm": {
     "name": "#%% md\n"
    }
   },
   "source": [
    "# 题目\n",
    "\n",
    "给定一个单链表，把所有的奇数节点和偶数节点分别排在一起。请注意，这里的奇数节点和偶数节点指的是节点编号的奇偶性，而不是节点的值的奇偶性。\n",
    "\n",
    "请尝试使用原地算法完成。你的算法的空间复杂度应为 O(1)，时间复杂度应为 O(nodes)，nodes 为节点总数。\n",
    "\n",
    "示例 1:\n",
    "\n",
    "输入: 1->2->3->4->5->NULL\n",
    "\n",
    "输出: 1->3->5->2->4->NULL\n",
    "\n",
    "示例 2:\n",
    "\n",
    "输入: 2->1->3->5->6->4->7->NULL \n",
    "\n",
    "输出: 2->3->6->7->1->5->4->NULL\n",
    "\n",
    "说明:\n",
    "\n",
    "应当保持奇数节点和偶数节点的相对顺序。\n",
    "\n",
    "链表的第一个节点视为奇数节点，第二个节点视为偶数节点，以此类推。\n",
    "\n",
    "来源：力扣（LeetCode）\n",
    "\n",
    "链接：https://leetcode-cn.com/problems/odd-even-linked-list\n",
    "\n",
    "著作权归领扣网络所有。商业转载请联系官方授权，非商业转载请注明出处。"
   ]
  },
  {
   "cell_type": "markdown",
   "source": [
    "# 我的解法\n",
    "\n",
    "1. 分别设置一个奇偶ListNode\n",
    "2. 奇连接奇，偶连接偶\n",
    "3. 然后将偶拼接到奇的后面"
   ],
   "metadata": {
    "collapsed": false
   }
  },
  {
   "cell_type": "code",
   "execution_count": 1,
   "outputs": [],
   "source": [
    "# Definition for singly-linked list.\n",
    "class ListNode:\n",
    "    def __init__(self, x):\n",
    "        self.val = x\n",
    "        self.next = None"
   ],
   "metadata": {
    "collapsed": false,
    "pycharm": {
     "name": "#%%\n",
     "is_executing": false
    }
   }
  },
  {
   "cell_type": "code",
   "execution_count": 2,
   "outputs": [
    {
     "data": {
      "text/plain": "5"
     },
     "metadata": {},
     "output_type": "execute_result",
     "execution_count": 2
    }
   ],
   "source": [
    "class Solution:\n",
    "    def oddEvenList(self, head: ListNode) -> ListNode:\n",
    "        if not head:\n",
    "            return head\n",
    "        ji = head\n",
    "        temp = ou = head.next\n",
    "        while ji and ou and ou.next:\n",
    "            ji.next = ji.next.next\n",
    "            ou.next = ou.next.next\n",
    "            ji = ji.next\n",
    "            ou = ou.next\n",
    "        ji.next = temp\n",
    "        return head\n",
    "            "
   ],
   "metadata": {
    "collapsed": false,
    "pycharm": {
     "name": "#%%\n",
     "is_executing": false
    }
   }
  },
  {
   "cell_type": "code",
   "execution_count": null,
   "outputs": [],
   "source": [
    "\n"
   ],
   "metadata": {
    "collapsed": false,
    "pycharm": {
     "name": "#%%\n"
    }
   }
  }
 ],
 "metadata": {
  "kernelspec": {
   "display_name": "Python 3",
   "language": "python",
   "name": "python3"
  },
  "language_info": {
   "codemirror_mode": {
    "name": "ipython",
    "version": 2
   },
   "file_extension": ".py",
   "mimetype": "text/x-python",
   "name": "python",
   "nbconvert_exporter": "python",
   "pygments_lexer": "ipython2",
   "version": "2.7.6"
  },
  "pycharm": {
   "stem_cell": {
    "cell_type": "raw",
    "source": [],
    "metadata": {
     "collapsed": false
    }
   }
  }
 },
 "nbformat": 4,
 "nbformat_minor": 0
}