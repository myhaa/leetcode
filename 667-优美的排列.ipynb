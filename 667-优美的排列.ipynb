{
 "cells": [
  {
   "cell_type": "markdown",
   "metadata": {
    "collapsed": true,
    "pycharm": {
     "name": "#%% md\n"
    }
   },
   "source": [
    "# 题目\n",
    "\n",
    "给定两个整数 n 和 k，你需要实现一个数组，这个数组包含从 1 到 n 的 n 个不同整数，同时满足以下条件：\n",
    "\n",
    "① 如果这个数组是 [a1, a2, a3, ... , an] ，那么数组 [|a1 - a2|, |a2 - a3|, |a3 - a4|, ... , |an-1 - an|] 中应该有且仅有 k 个不同整数；.\n",
    "\n",
    "② 如果存在多种答案，你只需实现并返回其中任意一种.\n",
    "\n",
    "示例 1:\n",
    "\n",
    "输入: n = 3, k = 1\n",
    "\n",
    "输出: [1, 2, 3]\n",
    "\n",
    "解释: [1, 2, 3] 包含 3 个范围在 1-3 的不同整数， 并且 [1, 1] 中有且仅有 1 个不同整数 : 1\n",
    " \n",
    "\n",
    "示例 2:\n",
    "\n",
    "输入: n = 3, k = 2\n",
    "\n",
    "输出: [1, 3, 2]\n",
    "\n",
    "解释: [1, 3, 2] 包含 3 个范围在 1-3 的不同整数， 并且 [2, 1] 中有且仅有 2 个不同整数: 1 和 2\n",
    " \n",
    "\n",
    "提示:\n",
    "\n",
    " n 和 k 满足条件 1 <= k < n <= 104.\n",
    "\n",
    "来源：力扣（LeetCode）\n",
    "\n",
    "链接：https://leetcode-cn.com/problems/beautiful-arrangement-ii\n",
    "\n",
    "著作权归领扣网络所有。商业转载请联系官方授权，非商业转载请注明出处。\n"
   ]
  },
  {
   "cell_type": "markdown",
   "source": [
    "# 我的解法"
   ],
   "metadata": {
    "collapsed": false,
    "pycharm": {
     "name": "#%% md\n"
    }
   }
  },
  {
   "cell_type": "markdown",
   "source": [
    "找一下规律：\n",
    "\n",
    "1:n=2,k=1:[1,2]\n",
    "\n",
    "2:n=3,k=1:[1,2,3]\n",
    "\n",
    "3:n=3,k=2:[1,3,2]\n",
    "\n",
    "4:n=4,k=1:[1,2,3,4]\n",
    "\n",
    "5:n=4,k=2:[1,2,4,3]\n",
    "\n",
    "6:n=4,k=3:[1,4,2,3]\n",
    "\n",
    "你会发现：\n",
    "\n",
    "当k=n-1时，输出为[1,n,2,n-1,...]，因为需要n-1个不同的差值，所以需要1与n相邻，然后还需要n-2个不同差值，则需要2与n-1相邻，以此类推\n",
    "\n",
    "...\n",
    "\n",
    "当k=1时，输出为[1,2,...,n]，只需要1个不同的差值，\n",
    "\n",
    "当k=m时，输出为[1,2,...,n-m,n,...]，需要n-m个不同值"
   ],
   "metadata": {
    "collapsed": false,
    "pycharm": {
     "name": "#%% md\n"
    }
   }
  },
  {
   "cell_type": "code",
   "execution_count": 54,
   "outputs": [],
   "source": [
    "n,k=10,3\n",
    "# n,k=3,2\n",
    "# n,k=4,1\n",
    "# n,k=4,2\n",
    "# n,k=4,3"
   ],
   "metadata": {
    "collapsed": false,
    "pycharm": {
     "name": "#%%\n",
     "is_executing": false
    }
   }
  },
  {
   "cell_type": "code",
   "execution_count": 55,
   "outputs": [
    {
     "name": "stdout",
     "text": [
      "[1, 2, 3, 4, 5, 6, 7, 10, 8, 9]\n"
     ],
     "output_type": "stream"
    }
   ],
   "source": [
    "# 先构造1:n-k-1\n",
    "result1 = list(range(1,n-k))\n",
    "result1\n",
    "result2 = list(range(n-k,n+1))\n",
    "result2\n",
    "\n",
    "for i, j in zip(result2, result2[::-1]):\n",
    "    result1.append(i)\n",
    "    if len(result1) == n:\n",
    "        print(result1)\n",
    "    result1.append(j)\n",
    "    if len(result1) == n:\n",
    "        print(result1)\n",
    "    "
   ],
   "metadata": {
    "collapsed": false,
    "pycharm": {
     "name": "#%%\n",
     "is_executing": false
    }
   }
  },
  {
   "cell_type": "code",
   "execution_count": null,
   "outputs": [],
   "source": [
    "\n"
   ],
   "metadata": {
    "collapsed": false,
    "pycharm": {
     "name": "#%%\n"
    }
   }
  }
 ],
 "metadata": {
  "kernelspec": {
   "display_name": "Python 3",
   "language": "python",
   "name": "python3"
  },
  "language_info": {
   "codemirror_mode": {
    "name": "ipython",
    "version": 2
   },
   "file_extension": ".py",
   "mimetype": "text/x-python",
   "name": "python",
   "nbconvert_exporter": "python",
   "pygments_lexer": "ipython2",
   "version": "2.7.6"
  },
  "pycharm": {
   "stem_cell": {
    "cell_type": "raw",
    "source": [],
    "metadata": {
     "collapsed": false
    }
   }
  }
 },
 "nbformat": 4,
 "nbformat_minor": 0
}