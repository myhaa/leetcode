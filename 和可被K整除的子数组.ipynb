{
 "cells": [
  {
   "cell_type": "markdown",
   "metadata": {},
   "source": [
    "# 题目"
   ]
  },
  {
   "cell_type": "markdown",
   "metadata": {},
   "source": [
    "给定一个整数数组 A，返回其中元素之和可被 K 整除的（连续、非空）子数组的数目。\n",
    "\n",
    " \n",
    "\n",
    "示例：\n",
    "\n",
    "输入：\n",
    "```\n",
    "A = [4,5,0,-2,-3,1], K = 5\n",
    "```\n",
    "输出：\n",
    "```\n",
    "7\n",
    "```\n",
    "解释：\n",
    "\n",
    "有 7 个子数组满足其元素之和可被 K = 5 整除：\n",
    "```\n",
    "[4, 5, 0, -2, -3, 1], [5], [5, 0], [5, 0, -2, -3], [0], [0, -2, -3], [-2, -3]\n",
    " \n",
    "```\n",
    "提示：\n",
    "\n",
    "```\n",
    "1 <= A.length <= 30000\n",
    "-10000 <= A[i] <= 10000\n",
    "2 <= K <= 10000\n",
    "```\n",
    "\n",
    "来源：力扣（LeetCode）\n",
    "链接：https://leetcode-cn.com/problems/subarray-sums-divisible-by-k\n",
    "著作权归领扣网络所有。商业转载请联系官方授权，非商业转载请注明出处。"
   ]
  },
  {
   "cell_type": "markdown",
   "metadata": {},
   "source": [
    "# 答案"
   ]
  },
  {
   "cell_type": "markdown",
   "metadata": {},
   "source": [
    "## 产生连续子集集合"
   ]
  },
  {
   "cell_type": "code",
   "execution_count": 77,
   "metadata": {},
   "outputs": [],
   "source": [
    "# A = [4,5,0,-2,-3,1]\n",
    "K = 5\n",
    "# A = [-5]\n",
    "A = [7,4,-10]\n"
   ]
  },
  {
   "cell_type": "code",
   "execution_count": 78,
   "metadata": {},
   "outputs": [
    {
     "name": "stdout",
     "output_type": "stream",
     "text": [
      "7 [4, -10]\n",
      "4 [-10]\n",
      "-10 []\n",
      "-10\n"
     ]
    }
   ],
   "source": [
    "result = []\n",
    "count = 0\n",
    "if len(A) == 1:\n",
    "    if A[0] % K == 0:\n",
    "        count += 1\n",
    "else:\n",
    "    for i in range(len(A)):\n",
    "        j = 0\n",
    "        head, tail = A[i], A[i+1:]\n",
    "        print(head,tail)\n",
    "        while j != len(tail):\n",
    "            if head % K == 0:\n",
    "                result.append(head)\n",
    "                count += 1\n",
    "                print(head)\n",
    "            head += tail[j]\n",
    "            j += 1\n",
    "        if head % K == 0:\n",
    "            print(head)\n",
    "            result.append(head)\n",
    "            count += 1\n",
    "        "
   ]
  },
  {
   "cell_type": "code",
   "execution_count": 79,
   "metadata": {},
   "outputs": [
    {
     "data": {
      "text/plain": [
       "[-10]"
      ]
     },
     "execution_count": 79,
     "metadata": {},
     "output_type": "execute_result"
    }
   ],
   "source": [
    "result"
   ]
  },
  {
   "cell_type": "code",
   "execution_count": 80,
   "metadata": {},
   "outputs": [
    {
     "data": {
      "text/plain": [
       "1"
      ]
     },
     "execution_count": 80,
     "metadata": {},
     "output_type": "execute_result"
    }
   ],
   "source": [
    "count"
   ]
  },
  {
   "cell_type": "markdown",
   "metadata": {},
   "source": [
    "# 注意：上述答案会超出时间限制"
   ]
  },
  {
   "cell_type": "code",
   "execution_count": null,
   "metadata": {},
   "outputs": [],
   "source": []
  }
 ],
 "metadata": {
  "kernelspec": {
   "display_name": "Python 3",
   "language": "python",
   "name": "python3"
  },
  "language_info": {
   "codemirror_mode": {
    "name": "ipython",
    "version": 3
   },
   "file_extension": ".py",
   "mimetype": "text/x-python",
   "name": "python",
   "nbconvert_exporter": "python",
   "pygments_lexer": "ipython3",
   "version": "3.6.8"
  }
 },
 "nbformat": 4,
 "nbformat_minor": 4
}
