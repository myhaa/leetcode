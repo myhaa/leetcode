{
 "cells": [
  {
   "cell_type": "markdown",
   "metadata": {},
   "source": [
    "# 题目"
   ]
  },
  {
   "cell_type": "markdown",
   "metadata": {},
   "source": [
    "给定一个整数数组 A，返回其中元素之和可被 K 整除的（连续、非空）子数组的数目。\n",
    "\n",
    " \n",
    "\n",
    "示例：\n",
    "\n",
    "输入：\n",
    "```\n",
    "A = [4,5,0,-2,-3,1], K = 5\n",
    "```\n",
    "输出：\n",
    "```\n",
    "7\n",
    "```\n",
    "解释：\n",
    "\n",
    "有 7 个子数组满足其元素之和可被 K = 5 整除：\n",
    "```\n",
    "[4, 5, 0, -2, -3, 1], [5], [5, 0], [5, 0, -2, -3], [0], [0, -2, -3], [-2, -3]\n",
    " \n",
    "```\n",
    "提示：\n",
    "\n",
    "```\n",
    "1 <= A.length <= 30000\n",
    "-10000 <= A[i] <= 10000\n",
    "2 <= K <= 10000\n",
    "```\n",
    "\n",
    "来源：力扣（LeetCode）\n",
    "链接：https://leetcode-cn.com/problems/subarray-sums-divisible-by-k\n",
    "著作权归领扣网络所有。商业转载请联系官方授权，非商业转载请注明出处。"
   ]
  },
  {
   "cell_type": "markdown",
   "metadata": {},
   "source": [
    "# 答案"
   ]
  },
  {
   "cell_type": "markdown",
   "metadata": {},
   "source": [
    "## 产生连续子集集合"
   ]
  },
  {
   "cell_type": "code",
   "execution_count": 77,
   "metadata": {},
   "outputs": [],
   "source": [
    "# A = [4,5,0,-2,-3,1]\n",
    "K = 5\n",
    "# A = [-5]\n",
    "A = [7,4,-10]\n"
   ]
  },
  {
   "cell_type": "code",
   "execution_count": 78,
   "metadata": {},
   "outputs": [
    {
     "name": "stdout",
     "output_type": "stream",
     "text": [
      "7 [4, -10]\n",
      "4 [-10]\n",
      "-10 []\n",
      "-10\n"
     ]
    }
   ],
   "source": [
    "result = []\n",
    "count = 0\n",
    "if len(A) == 1:\n",
    "    if A[0] % K == 0:\n",
    "        count += 1\n",
    "else:\n",
    "    for i in range(len(A)):\n",
    "        j = 0\n",
    "        head, tail = A[i], A[i+1:]\n",
    "        print(head,tail)\n",
    "        while j != len(tail):\n",
    "            if head % K == 0:\n",
    "                result.append(head)\n",
    "                count += 1\n",
    "                print(head)\n",
    "            head += tail[j]\n",
    "            j += 1\n",
    "        if head % K == 0:\n",
    "            print(head)\n",
    "            result.append(head)\n",
    "            count += 1\n",
    "        "
   ]
  },
  {
   "cell_type": "code",
   "execution_count": 79,
   "metadata": {},
   "outputs": [
    {
     "data": {
      "text/plain": [
       "[-10]"
      ]
     },
     "execution_count": 79,
     "metadata": {},
     "output_type": "execute_result"
    }
   ],
   "source": [
    "result"
   ]
  },
  {
   "cell_type": "code",
   "execution_count": 80,
   "metadata": {},
   "outputs": [
    {
     "data": {
      "text/plain": [
       "1"
      ]
     },
     "execution_count": 80,
     "metadata": {},
     "output_type": "execute_result"
    }
   ],
   "source": [
    "count"
   ]
  },
  {
   "cell_type": "markdown",
   "metadata": {},
   "source": [
    "# 注意：上述答案会超出时间限制"
   ]
  },
  {
   "cell_type": "markdown",
   "metadata": {},
   "source": [
    "# 一个大神的解法"
   ]
  },
  {
   "cell_type": "markdown",
   "metadata": {},
   "source": [
    "题目求连续子数组的和能被K整除，连续子数组的和就可以表示为前缀和的差，\n",
    "\n",
    "比如 sum(A[i : j + 1]) = s[j + 1] - s[i]，\n",
    "\n",
    "如果两个数的差能被K整除，就说明这两个数 mod K得到的结果相同，\n",
    "\n",
    "只要找有多少对 mod k 相同的数就可以组合一下得到结果，\n",
    "\n",
    "举例 对于A= [4,5,0,-2,-3,1] K = 5，\n",
    "\n",
    "s = [0, 4, 9, 9, 7, 4, 5] ，\n",
    "\n",
    "kcnt = [2, 0, 1, 0, 4] 代表有s中有两个元素的余数都为0（即0和5），1个元素的余数为2（即7），四个元素的余数为4（即4994）\n",
    "\n",
    "所以在保证余数相同的情况下，取出两个数都可以得到一组答案。对于这个例子答案就是 C22 + C12 + C42 = 1 + 0 + 6 = 7"
   ]
  },
  {
   "cell_type": "code",
   "execution_count": 35,
   "metadata": {},
   "outputs": [],
   "source": [
    "A = [4,5,0,-2,-3,1]\n",
    "K = 5\n",
    "# A = [-5]\n",
    "# A = [7,4,-10]"
   ]
  },
  {
   "cell_type": "code",
   "execution_count": 36,
   "metadata": {},
   "outputs": [
    {
     "data": {
      "text/plain": [
       "7"
      ]
     },
     "execution_count": 36,
     "metadata": {},
     "output_type": "execute_result"
    }
   ],
   "source": [
    "s = [0 for i in range(len(A)+1)]  # 求和list\n",
    "kmod = [0 for i in range(K)]  # 求余list\n",
    "for i in range(len(A)):\n",
    "    s[i+1] = s[i] + A[i]\n",
    "for item in s:\n",
    "    kmod[item % K] += 1\n",
    "sum(x * (x - 1) // 2 for x in kmod)"
   ]
  },
  {
   "cell_type": "code",
   "execution_count": 34,
   "metadata": {},
   "outputs": [
    {
     "data": {
      "text/plain": [
       "7"
      ]
     },
     "execution_count": 34,
     "metadata": {},
     "output_type": "execute_result"
    }
   ],
   "source": []
  },
  {
   "cell_type": "code",
   "execution_count": 26,
   "metadata": {},
   "outputs": [
    {
     "data": {
      "text/plain": [
       "[0, 4, 9, 9, 7, 4, 5]"
      ]
     },
     "execution_count": 26,
     "metadata": {},
     "output_type": "execute_result"
    }
   ],
   "source": []
  },
  {
   "cell_type": "code",
   "execution_count": 27,
   "metadata": {},
   "outputs": [
    {
     "data": {
      "text/plain": [
       "[2, 0, 1, 0, 4]"
      ]
     },
     "execution_count": 27,
     "metadata": {},
     "output_type": "execute_result"
    }
   ],
   "source": []
  },
  {
   "cell_type": "code",
   "execution_count": null,
   "metadata": {},
   "outputs": [],
   "source": []
  }
 ],
 "metadata": {
  "kernelspec": {
   "display_name": "Python 3",
   "language": "python",
   "name": "python3"
  },
  "language_info": {
   "codemirror_mode": {
    "name": "ipython",
    "version": 3
   },
   "file_extension": ".py",
   "mimetype": "text/x-python",
   "name": "python",
   "nbconvert_exporter": "python",
   "pygments_lexer": "ipython3",
   "version": "3.6.8"
  }
 },
 "nbformat": 4,
 "nbformat_minor": 4
}
