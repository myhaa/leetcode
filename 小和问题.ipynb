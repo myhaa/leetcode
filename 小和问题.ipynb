{
 "cells": [
  {
   "cell_type": "markdown",
   "metadata": {},
   "source": [
    "# 小和问题\n",
    "* 在一个数组中， 每一个数左边比当前数小的数累加起来， 叫做这个数组的小和。 求一个数组的小和。\n",
    "* 例子：\n",
    "\n",
    "[1,3,4,2,5]\n",
    "\n",
    "1左边比1小的数， 没有；\n",
    "\n",
    "3左边比3小的数， 1；\n",
    "\n",
    "4左边比4小的数， 1、 3；\n",
    "\n",
    "2左边比2小的数， 1；\n",
    "\n",
    "5左边比5小的数， 1、 3、 4、 2；\n",
    "\n",
    "所以小和为1+1+3+1+1+3+4+2=16"
   ]
  },
  {
   "cell_type": "code",
   "execution_count": 1,
   "metadata": {},
   "outputs": [],
   "source": [
    "def smallsum(arr):\n",
    "    if arr is None or len(arr) < 2:\n",
    "        return arr, 0\n",
    "    mid = len(arr) // 2\n",
    "    result = []\n",
    "    minsum = 0\n",
    "    left, minsum_l = smallsum(arr[:mid])\n",
    "    right, minsum_r = smallsum(arr[mid:])\n",
    "    while left and right:\n",
    "        if left[0] < right[0]:\n",
    "            minsum += left[0] * len(right)\n",
    "            result.append(left.pop(0))\n",
    "        else:\n",
    "            result.append(right.pop(0))\n",
    "    if left:\n",
    "        result += left\n",
    "    if right:\n",
    "        result += right\n",
    "    minsum = minsum + minsum_l + minsum_r\n",
    "    return result, minsum"
   ]
  },
  {
   "cell_type": "code",
   "execution_count": 2,
   "metadata": {},
   "outputs": [
    {
     "name": "stdout",
     "output_type": "stream",
     "text": [
      "[1, 3, 4, 2, 5]\n",
      "[1, 2, 3, 4, 5]\n",
      "16\n"
     ]
    }
   ],
   "source": [
    "arr = [1,3,4,2,5]\n",
    "print(arr)\n",
    "result, minsum = smallsum(arr)\n",
    "print(result)\n",
    "print(minsum)"
   ]
  },
  {
   "cell_type": "code",
   "execution_count": null,
   "metadata": {},
   "outputs": [],
   "source": []
  }
 ],
 "metadata": {
  "kernelspec": {
   "display_name": "Python 3",
   "language": "python",
   "name": "python3"
  },
  "language_info": {
   "codemirror_mode": {
    "name": "ipython",
    "version": 3
   },
   "file_extension": ".py",
   "mimetype": "text/x-python",
   "name": "python",
   "nbconvert_exporter": "python",
   "pygments_lexer": "ipython3",
   "version": "3.6.8"
  }
 },
 "nbformat": 4,
 "nbformat_minor": 4
}
